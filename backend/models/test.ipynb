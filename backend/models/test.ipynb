{
 "cells": [
  {
   "cell_type": "code",
   "execution_count": 1,
   "metadata": {},
   "outputs": [
    {
     "name": "stdout",
     "output_type": "stream",
     "text": [
      "{'access_token': 'BQBfWrrRz-VveEw0P9T7tZVZoQIu6y0kxkrfkyZM0m9IMgljOVwgF4qzNLEkTGlIUXCxiib6ufE0FUjeCVubSc6c2UdfEPfMUqG7x4icQqAxW844FPkr2x0JnLNSX1Iu6xDEeUtfIJgAEJ_PJboVDR3LgcfGQUqSN9Ic3xDTAOfoJlKuczwRjXJDkSrfXYP-Gq0cWvuH1Lie3-kmiek', 'token_type': 'Bearer', 'expires_in': 3600, 'scope': 'user-library-read user-read-currently-playing user-read-private user-read-recently-played', 'expires_at': 1708255615, 'refresh_token': 'AQDROefR5cOiwNcyosQ5lSrWWm1mSOTpAMYEueWCc4Sm4vwphUW0P6oNQQlNSf36jp5NytzbAfN_tjRqji3Ik3FB493fTqXUaoar1pUmqEpOiwupj7aS_PUmC-KFu2oIQSM'}\n"
     ]
    },
    {
     "name": "stderr",
     "output_type": "stream",
     "text": [
      "C:\\Users\\kevin\\AppData\\Local\\Temp\\ipykernel_27804\\4036136410.py:16: DeprecationWarning: You're using 'as_dict = True'.get_access_token will return the token string directly in future versions. Please adjust your code accordingly, or use get_cached_token instead.\n",
      "  token = Oauth.get_access_token()\n"
     ]
    }
   ],
   "source": [
    "import spotipy,os\n",
    "import spotipy.util as util\n",
    "import json\n",
    "import requests as rq\n",
    "\n",
    "client_id = 'a5f4717d6cbe43fea2cc354da04490b6'\n",
    "redirect_uri = 'http://localhost:8888/callback/'\n",
    "client_secret = '4eaba7b3f548455dae6a2ac83d8e39e1'\n",
    "scope = ['user-library-read','user-read-private','user-read-recently-played','user-read-currently-playing']\n",
    "\n",
    "\n",
    "Oauth = spotipy.oauth2.SpotifyOAuth(client_id=client_id,\n",
    "                            client_secret=client_secret,\n",
    "                            redirect_uri=redirect_uri,\n",
    "                            scope=scope)\n",
    "token = Oauth.get_access_token()\n",
    "print(token)\n",
    "headers = {\"Authorization\": \"Bearer {}\".format(token['access_token'])}\n",
    "\n",
    "sp = spotipy.client.Spotify(headers)\n",
    "data = sp.current_user_recently_played(50)\n",
    "\n",
    "items =  data['items']\n",
    "# print(items)\n",
    "# artist = sp.artist(\"2yRnjWtHzmDELwYaUiX0Yh\")\n",
    "# print(artist)\n",
    "#get artist uri\n",
    "# d = items[0]['track']\n",
    "# print(d['artists'][0]['uri'])\n",
    "# uri = d['artists'][0]['uri']\n",
    "# id = uri.split(\":\", 2)[2]\n",
    "# print(id)\n",
    "# URL = 'https://api.spotify.com/v1/artists/{}'.format(id[2])\n"
   ]
  },
  {
   "cell_type": "code",
   "execution_count": null,
   "metadata": {},
   "outputs": [],
   "source": []
  },
  {
   "cell_type": "code",
   "execution_count": 18,
   "metadata": {},
   "outputs": [
    {
     "name": "stdout",
     "output_type": "stream",
     "text": [
      "[['勇者', 'YOASOBI', 'https://i.scdn.co/image/ab67616d00001e02a9f9b6f07b43009f5b0216dc', '2024-02-18 08:16:30', '64tJ2EAv1R6UaZqc4iOCyj'], ['more than words', 'Hitsujibungaku', 'https://i.scdn.co/image/ab67616d00001e0209fdd610f8a7b39b3b7260ef', '2024-02-18 08:16:19', '6S8w5rLsEwjN21jQeRES0n'], ['アンビバレント', 'Uru', 'https://i.scdn.co/image/ab67616d00001e025f695a1401f9626e21692ecb', '2024-02-18 08:11:28', '6le80R1opKnTlP4o3KvA2k'], ['「僕は...」', 'あたらよ', 'https://i.scdn.co/image/ab67616d00001e02d230bbe17b4e2f279e42c1fe', '2024-02-18 08:07:26', '2yRnjWtHzmDELwYaUiX0Yh'], ['SPECIALZ', 'King Gnu', 'https://i.scdn.co/image/ab67616d00001e0288f868f81564eaa604ec08ef', '2024-02-18 08:03:26', '6wxfx1yhyqjCPYwwxJktR2'], ['憂い桜', 'あたらよ', 'https://i.scdn.co/image/ab67616d00001e029efd9858adaf5e9af4c817c9', '2024-02-18 07:59:25', '2yRnjWtHzmDELwYaUiX0Yh'], ['また夏を追う', 'あたらよ', 'https://i.scdn.co/image/ab67616d00001e029efd9858adaf5e9af4c817c9', '2024-02-18 07:58:15', '2yRnjWtHzmDELwYaUiX0Yh'], ['僕らはそれを愛と呼んだ', 'あたらよ', 'https://i.scdn.co/image/ab67616d00001e029efd9858adaf5e9af4c817c9', '2024-02-18 07:53:29', '2yRnjWtHzmDELwYaUiX0Yh'], ['恋するもののあはれ', 'あたらよ', 'https://i.scdn.co/image/ab67616d00001e02352b55dba54bb4af413da0dc', '2024-02-18 07:48:05', '2yRnjWtHzmDELwYaUiX0Yh'], ['光れ', 'あたらよ', 'https://i.scdn.co/image/ab67616d00001e02770879b496fb295be62e3fcc', '2024-02-18 07:44:18', '2yRnjWtHzmDELwYaUiX0Yh'], ['ただ好きと言えたら', 'KERENMI', 'https://i.scdn.co/image/ab67616d00001e02d8fd28ffae9607976404cfa7', '2024-02-18 07:40:22', '2vieV6ozoaMtYS6QsuScfn'], ['夏霞', 'あたらよ', 'https://i.scdn.co/image/ab67616d00001e02a9ce0234b99bec5df27eff4f', '2024-02-18 07:36:54', '2yRnjWtHzmDELwYaUiX0Yh'], ['10月無口な君を忘れる', 'あたらよ', 'https://i.scdn.co/image/ab67616d00001e02a9ce0234b99bec5df27eff4f', '2024-02-18 07:33:05', '2yRnjWtHzmDELwYaUiX0Yh'], ['「僕は...」', 'あたらよ', 'https://i.scdn.co/image/ab67616d00001e02d230bbe17b4e2f279e42c1fe', '2024-02-18 07:27:32', '2yRnjWtHzmDELwYaUiX0Yh'], ['Aitaiwa', 'iri', 'https://i.scdn.co/image/ab67616d00001e026804e0bf61a56b69b25b9171', '2024-02-17 18:49:08', '1mN9lPKzTRTOop4u7S1Uy9'], ['斜陽', 'ヨルシカ', 'https://i.scdn.co/image/ab67616d00001e02ff8170ccbc49ad0cc9c00b15', '2024-02-17 18:09:54', '4UK2Lzi6fBfUi9rpDt6cik'], ['どろん', 'King Gnu', 'https://i.scdn.co/image/ab67616d00001e02a2272c8966971b7b04066241', '2024-02-17 18:06:33', '6wxfx1yhyqjCPYwwxJktR2'], ['花', 'Fujii Kaze', 'https://i.scdn.co/image/ab67616d00001e0250d2cd7d61ac21259ac8961d', '2024-02-17 18:02:48', '6bDWAcdtVR3WHz2xtiIPUi'], ['Bye by me', 'Vaundy', 'https://i.scdn.co/image/ab67616d00001e02cf855f0c6dee3a4b541b48e7', '2024-02-17 17:58:41', '2IUl3m1H1EQ7QfNbNWvgru'], ['Amber Bare Skin', 'tonun', 'https://i.scdn.co/image/ab67616d00001e0274ab5aa3bba2bc9de713fd3a', '2024-02-17 17:54:20', '4eF1tYcUa9voNDX7xVTrZG'], ['花曇り', 'CHIAKI SATO', 'https://i.scdn.co/image/ab67616d00001e022f7cc1d44fc9b2ee9a5463de', '2024-02-17 17:50:54', '7fD1pCIsnPsUt6mHizHGnt'], ['5/7', 'chilldspot', 'https://i.scdn.co/image/ab67616d00001e02f7255a50c4c9ef20f2763773', '2024-02-17 17:46:50', '4uJKSLGvdvinobijrcfKw4'], ['10月無口な君を忘れる', 'あたらよ', 'https://i.scdn.co/image/ab67616d00001e02a9ce0234b99bec5df27eff4f', '2024-02-17 17:43:00', '2yRnjWtHzmDELwYaUiX0Yh'], ['瞳惚れ', 'Vaundy', 'https://i.scdn.co/image/ab67616d00001e028d88fae79a837318aadcc056', '2024-02-17 17:37:27', '2IUl3m1H1EQ7QfNbNWvgru'], ['more than words', 'Hitsujibungaku', 'https://i.scdn.co/image/ab67616d00001e020176d825eea0b946e228f2f2', '2024-02-17 17:33:07', '6S8w5rLsEwjN21jQeRES0n'], [\"Don't Stop the Clocks\", 'King Gnu', 'https://i.scdn.co/image/ab67616d00001e02e921fc686dbd113760a3c1ea', '2024-02-17 17:28:15', '6wxfx1yhyqjCPYwwxJktR2'], ['世界の秘密', 'Vaundy', 'https://i.scdn.co/image/ab67616d00001e028d88fae79a837318aadcc056', '2024-02-17 17:25:43', '2IUl3m1H1EQ7QfNbNWvgru'], ['また夏を追う', 'あたらよ', 'https://i.scdn.co/image/ab67616d00001e029efd9858adaf5e9af4c817c9', '2024-02-17 17:22:01', '2yRnjWtHzmDELwYaUiX0Yh'], ['地球儀', 'Aimer', 'https://i.scdn.co/image/ab67616d00001e02146ee402c8243cf8db8630e6', '2024-02-17 17:17:13', '0bAsR2unSRpn6BQPEnNlZm'], ['BOY', 'King Gnu', 'https://i.scdn.co/image/ab67616d00001e0288f868f81564eaa604ec08ef', '2024-02-17 17:13:20', '6wxfx1yhyqjCPYwwxJktR2'], ['Yoru no Tanken', 'chilldspot', 'https://i.scdn.co/image/ab67616d00001e025083d0633b674176a75950cb', '2024-02-17 17:09:25', '4uJKSLGvdvinobijrcfKw4'], ['線香花火 - feat. 幾田りら', 'CHIAKI SATO', 'https://i.scdn.co/image/ab67616d00001e022f7cc1d44fc9b2ee9a5463de', '2024-02-17 17:04:56', '7fD1pCIsnPsUt6mHizHGnt'], ['ヒッチコック', 'ヨルシカ', 'https://i.scdn.co/image/ab67616d00001e0228b535c92629e3c8d20ec242', '2024-02-17 17:01:37', '4UK2Lzi6fBfUi9rpDt6cik'], ['Fukakoryoku', 'Vaundy', 'https://i.scdn.co/image/ab67616d00001e02cf855f0c6dee3a4b541b48e7', '2024-02-17 16:57:53', '2IUl3m1H1EQ7QfNbNWvgru'], ['怪獣の腕のなか', 'Kinokoteikoku', 'https://i.scdn.co/image/ab67616d00001e02ebf6d2c185f6a66f38518b68', '2024-02-17 16:54:32', '61H9d7hbIfFNxJJQmIL9AJ'], ['Nagisa', 'imase', 'https://i.scdn.co/image/ab67616d00001e0277a3943437e54bfe95f467c0', '2024-02-17 16:50:47', '4TaSvnT5o4REFwhqfrmK27'], ['Killer Word - 電影《鄰人X：謎樣的女子》主題曲', 'chilldspot', 'https://i.scdn.co/image/ab67616d00001e0258c36f38bab3bbb2ee092e98', '2024-02-17 16:47:00', '4uJKSLGvdvinobijrcfKw4'], ['Naa', 'YOAKE', 'https://i.scdn.co/image/ab67616d00001e0229761406464fd1944d5a89a0', '2024-02-17 16:42:58', '0psEe4IooMjolOPMrz9A5M'], ['だから僕は音楽を辞めた', 'ヨルシカ', 'https://i.scdn.co/image/ab67616d00001e02b1b3b83ffee5925197e7ef2c', '2024-02-17 16:39:44', '4UK2Lzi6fBfUi9rpDt6cik'], ['永遠のブルー', 'Hitsujibungaku', 'https://i.scdn.co/image/ab67616d00001e020176d825eea0b946e228f2f2', '2024-02-17 16:35:40', '6S8w5rLsEwjN21jQeRES0n'], ['華にブルー', 'indigo la End', 'https://i.scdn.co/image/ab67616d00001e02662e9557548f09b352f24075', '2024-02-17 16:31:49', '26ZBeXl5Gqr3TAv2itmyCU'], ['夏霞', 'あたらよ', 'https://i.scdn.co/image/ab67616d00001e02a9ce0234b99bec5df27eff4f', '2024-02-17 16:27:15', '2yRnjWtHzmDELwYaUiX0Yh'], ['Kaiju no Hanauta', 'Vaundy', 'https://i.scdn.co/image/ab67616d00001e02cf855f0c6dee3a4b541b48e7', '2024-02-17 16:23:26', '2IUl3m1H1EQ7QfNbNWvgru'], ['lemonade', 'Chilli Beans.', 'https://i.scdn.co/image/ab67616d00001e02518c4b725bf4b40fba6cf5f5', '2024-02-17 16:19:40', '48apiuEaHdddhdRvfFjPB7'], ['Neon wo Keshite', 'chilldspot', 'https://i.scdn.co/image/ab67616d00001e025083d0633b674176a75950cb', '2024-02-17 16:16:33', '4uJKSLGvdvinobijrcfKw4'], ['ただ君に晴れ', 'ヨルシカ', 'https://i.scdn.co/image/ab67616d00001e0228b535c92629e3c8d20ec242', '2024-02-17 16:13:08', '4UK2Lzi6fBfUi9rpDt6cik'], ['CHAMELEON', 'King Gnu', 'https://i.scdn.co/image/ab67616d00001e0288f868f81564eaa604ec08ef', '2024-02-17 16:09:49', '6wxfx1yhyqjCPYwwxJktR2'], ['Wonderland', 'iri', 'https://i.scdn.co/image/ab67616d00001e02637f66657f614deebad784ef', '2024-02-17 16:06:30', '1mN9lPKzTRTOop4u7S1Uy9'], ['Zenzenzense - movie ver.', 'RADWIMPS', 'https://i.scdn.co/image/ab67616d00001e02cbbbea7d8fcf057f65071a85', '2024-02-17 16:02:45', '1EowJ1WwkMzkCkRomFhui7'], ['music', 'chilldspot', 'https://i.scdn.co/image/ab67616d00001e02d3bbc2f696c8fc06f1248914', '2024-02-17 15:57:58', '4uJKSLGvdvinobijrcfKw4']]\n",
      "[['勇者', 'YOASOBI', 'https://i.scdn.co/image/ab67616d00001e02a9f9b6f07b43009f5b0216dc', '2024-02-18 08:16:30', ['j-pop', 'japanese teen pop']], ['more than words', 'Hitsujibungaku', 'https://i.scdn.co/image/ab67616d00001e0209fdd610f8a7b39b3b7260ef', '2024-02-18 08:16:19', ['j-rock', 'japanese alternative rock']], ['アンビバレント', 'Uru', 'https://i.scdn.co/image/ab67616d00001e025f695a1401f9626e21692ecb', '2024-02-18 08:11:28', ['j-pop', 'japanese singer-songwriter']], ['「僕は...」', 'あたらよ', 'https://i.scdn.co/image/ab67616d00001e02d230bbe17b4e2f279e42c1fe', '2024-02-18 08:07:26', ['japanese teen pop']], ['SPECIALZ', 'King Gnu', 'https://i.scdn.co/image/ab67616d00001e0288f868f81564eaa604ec08ef', '2024-02-18 08:03:26', ['j-pop']], ['憂い桜', 'あたらよ', 'https://i.scdn.co/image/ab67616d00001e029efd9858adaf5e9af4c817c9', '2024-02-18 07:59:25', ['japanese teen pop']], ['また夏を追う', 'あたらよ', 'https://i.scdn.co/image/ab67616d00001e029efd9858adaf5e9af4c817c9', '2024-02-18 07:58:15', ['japanese teen pop']], ['僕らはそれを愛と呼んだ', 'あたらよ', 'https://i.scdn.co/image/ab67616d00001e029efd9858adaf5e9af4c817c9', '2024-02-18 07:53:29', ['japanese teen pop']], ['恋するもののあはれ', 'あたらよ', 'https://i.scdn.co/image/ab67616d00001e02352b55dba54bb4af413da0dc', '2024-02-18 07:48:05', ['japanese teen pop']], ['光れ', 'あたらよ', 'https://i.scdn.co/image/ab67616d00001e02770879b496fb295be62e3fcc', '2024-02-18 07:44:18', ['japanese teen pop']], ['ただ好きと言えたら', 'KERENMI', 'https://i.scdn.co/image/ab67616d00001e02d8fd28ffae9607976404cfa7', '2024-02-18 07:40:22', []], ['夏霞', 'あたらよ', 'https://i.scdn.co/image/ab67616d00001e02a9ce0234b99bec5df27eff4f', '2024-02-18 07:36:54', ['japanese teen pop']], ['10月無口な君を忘れる', 'あたらよ', 'https://i.scdn.co/image/ab67616d00001e02a9ce0234b99bec5df27eff4f', '2024-02-18 07:33:05', ['japanese teen pop']], ['「僕は...」', 'あたらよ', 'https://i.scdn.co/image/ab67616d00001e02d230bbe17b4e2f279e42c1fe', '2024-02-18 07:27:32', ['japanese teen pop']], ['Aitaiwa', 'iri', 'https://i.scdn.co/image/ab67616d00001e026804e0bf61a56b69b25b9171', '2024-02-17 18:49:08', ['j-pop', 'japanese electropop', 'japanese r&b']], ['斜陽', 'ヨルシカ', 'https://i.scdn.co/image/ab67616d00001e02ff8170ccbc49ad0cc9c00b15', '2024-02-17 18:09:54', ['j-pop']], ['どろん', 'King Gnu', 'https://i.scdn.co/image/ab67616d00001e02a2272c8966971b7b04066241', '2024-02-17 18:06:33', ['j-pop']], ['花', 'Fujii Kaze', 'https://i.scdn.co/image/ab67616d00001e0250d2cd7d61ac21259ac8961d', '2024-02-17 18:02:48', ['japanese teen pop']], ['Bye by me', 'Vaundy', 'https://i.scdn.co/image/ab67616d00001e02cf855f0c6dee3a4b541b48e7', '2024-02-17 17:58:41', ['j-pop', 'japanese soul']], ['Amber Bare Skin', 'tonun', 'https://i.scdn.co/image/ab67616d00001e0274ab5aa3bba2bc9de713fd3a', '2024-02-17 17:54:20', ['japanese r&b']], ['花曇り', 'CHIAKI SATO', 'https://i.scdn.co/image/ab67616d00001e022f7cc1d44fc9b2ee9a5463de', '2024-02-17 17:50:54', ['japanese r&b']], ['5/7', 'chilldspot', 'https://i.scdn.co/image/ab67616d00001e02f7255a50c4c9ef20f2763773', '2024-02-17 17:46:50', ['japanese r&b', 'japanese soul']], ['10月無口な君を忘れる', 'あたらよ', 'https://i.scdn.co/image/ab67616d00001e02a9ce0234b99bec5df27eff4f', '2024-02-17 17:43:00', ['japanese teen pop']], ['瞳惚れ', 'Vaundy', 'https://i.scdn.co/image/ab67616d00001e028d88fae79a837318aadcc056', '2024-02-17 17:37:27', ['j-pop', 'japanese soul']], ['more than words', 'Hitsujibungaku', 'https://i.scdn.co/image/ab67616d00001e020176d825eea0b946e228f2f2', '2024-02-17 17:33:07', ['j-rock', 'japanese alternative rock']], [\"Don't Stop the Clocks\", 'King Gnu', 'https://i.scdn.co/image/ab67616d00001e02e921fc686dbd113760a3c1ea', '2024-02-17 17:28:15', ['j-pop']], ['世界の秘密', 'Vaundy', 'https://i.scdn.co/image/ab67616d00001e028d88fae79a837318aadcc056', '2024-02-17 17:25:43', ['j-pop', 'japanese soul']], ['また夏を追う', 'あたらよ', 'https://i.scdn.co/image/ab67616d00001e029efd9858adaf5e9af4c817c9', '2024-02-17 17:22:01', ['japanese teen pop']], ['地球儀', 'Aimer', 'https://i.scdn.co/image/ab67616d00001e02146ee402c8243cf8db8630e6', '2024-02-17 17:17:13', ['anime', 'anime rock', 'j-pixie', 'j-pop', 'j-poprock']], ['BOY', 'King Gnu', 'https://i.scdn.co/image/ab67616d00001e0288f868f81564eaa604ec08ef', '2024-02-17 17:13:20', ['j-pop']], ['Yoru no Tanken', 'chilldspot', 'https://i.scdn.co/image/ab67616d00001e025083d0633b674176a75950cb', '2024-02-17 17:09:25', ['japanese r&b', 'japanese soul']], ['線香花火 - feat. 幾田りら', 'CHIAKI SATO', 'https://i.scdn.co/image/ab67616d00001e022f7cc1d44fc9b2ee9a5463de', '2024-02-17 17:04:56', ['japanese r&b']], ['ヒッチコック', 'ヨルシカ', 'https://i.scdn.co/image/ab67616d00001e0228b535c92629e3c8d20ec242', '2024-02-17 17:01:37', ['j-pop']], ['Fukakoryoku', 'Vaundy', 'https://i.scdn.co/image/ab67616d00001e02cf855f0c6dee3a4b541b48e7', '2024-02-17 16:57:53', ['j-pop', 'japanese soul']], ['怪獣の腕のなか', 'Kinokoteikoku', 'https://i.scdn.co/image/ab67616d00001e02ebf6d2c185f6a66f38518b68', '2024-02-17 16:54:32', ['j-rock', 'japanese alternative rock']], ['Nagisa', 'imase', 'https://i.scdn.co/image/ab67616d00001e0277a3943437e54bfe95f467c0', '2024-02-17 16:50:47', ['japanese teen pop']], ['Killer Word - 電影《鄰人X：謎樣的女子》主題曲', 'chilldspot', 'https://i.scdn.co/image/ab67616d00001e0258c36f38bab3bbb2ee092e98', '2024-02-17 16:47:00', ['japanese r&b', 'japanese soul']], ['Naa', 'YOAKE', 'https://i.scdn.co/image/ab67616d00001e0229761406464fd1944d5a89a0', '2024-02-17 16:42:58', ['japanese viral pop']], ['だから僕は音楽を辞めた', 'ヨルシカ', 'https://i.scdn.co/image/ab67616d00001e02b1b3b83ffee5925197e7ef2c', '2024-02-17 16:39:44', ['j-pop']], ['永遠のブルー', 'Hitsujibungaku', 'https://i.scdn.co/image/ab67616d00001e020176d825eea0b946e228f2f2', '2024-02-17 16:35:40', ['j-rock', 'japanese alternative rock']], ['華にブルー', 'indigo la End', 'https://i.scdn.co/image/ab67616d00001e02662e9557548f09b352f24075', '2024-02-17 16:31:49', ['j-rock', 'japanese indie pop']], ['夏霞', 'あたらよ', 'https://i.scdn.co/image/ab67616d00001e02a9ce0234b99bec5df27eff4f', '2024-02-17 16:27:15', ['japanese teen pop']], ['Kaiju no Hanauta', 'Vaundy', 'https://i.scdn.co/image/ab67616d00001e02cf855f0c6dee3a4b541b48e7', '2024-02-17 16:23:26', ['j-pop', 'japanese soul']], ['lemonade', 'Chilli Beans.', 'https://i.scdn.co/image/ab67616d00001e02518c4b725bf4b40fba6cf5f5', '2024-02-17 16:19:40', []], ['Neon wo Keshite', 'chilldspot', 'https://i.scdn.co/image/ab67616d00001e025083d0633b674176a75950cb', '2024-02-17 16:16:33', ['japanese r&b', 'japanese soul']], ['ただ君に晴れ', 'ヨルシカ', 'https://i.scdn.co/image/ab67616d00001e0228b535c92629e3c8d20ec242', '2024-02-17 16:13:08', ['j-pop']], ['CHAMELEON', 'King Gnu', 'https://i.scdn.co/image/ab67616d00001e0288f868f81564eaa604ec08ef', '2024-02-17 16:09:49', ['j-pop']], ['Wonderland', 'iri', 'https://i.scdn.co/image/ab67616d00001e02637f66657f614deebad784ef', '2024-02-17 16:06:30', ['j-pop', 'japanese electropop', 'japanese r&b']], ['Zenzenzense - movie ver.', 'RADWIMPS', 'https://i.scdn.co/image/ab67616d00001e02cbbbea7d8fcf057f65071a85', '2024-02-17 16:02:45', ['j-pop', 'j-rock', 'visual kei']], ['music', 'chilldspot', 'https://i.scdn.co/image/ab67616d00001e02d3bbc2f696c8fc06f1248914', '2024-02-17 15:57:58', ['japanese r&b', 'japanese soul']]]\n"
     ]
    }
   ],
   "source": [
    "def get_artist_genres(artist_id):\n",
    "    URL = 'https://api.spotify.com/v1/artists/{}'.format(artist_id)\n",
    "    output = rq.get(URL,headers=headers).json()\n",
    "\n",
    "    return output['genres']\n",
    "\n",
    "data  = find_songs_name(items)\n",
    "# print(data)\n",
    "for song in data[:]:\n",
    "    song[-1] = get_artist_genres(song[-1])\n",
    "    \n",
    "print(data)\n"
   ]
  },
  {
   "cell_type": "code",
   "execution_count": 2,
   "metadata": {},
   "outputs": [],
   "source": [
    "def find_songs_name(items):\n",
    "    last50songs = []\n",
    "    for i in range(len(items)):\n",
    "        data = []\n",
    "        current_track = items[i]['track']\n",
    "        time = items[i]['played_at']\n",
    "        album = current_track['album']\n",
    "        album_name = album['name']\n",
    "        album_image_inf = album['images'][1]\n",
    "        album_image_url = album_image_inf['url']\n",
    "        artist_inf = album['artists']\n",
    "        artist_name = artist_inf[0]['name']\n",
    "        artist_uri = artist_inf[0]['uri'].split(\":\", 2)[2]\n",
    "\n",
    "        t = trans_time(time)\n",
    "        # print(str(t))\n",
    "\n",
    "        data.append(current_track['name'])\n",
    "        data.append(artist_name)\n",
    "        data.append(album_image_url)\n",
    "        data.append(t)\n",
    "        data.append(artist_uri)\n",
    "        last50songs.append(data)\n",
    "\n",
    "    return last50songs\n",
    "    \n",
    "def take_second(list):\n",
    "    return list[2]\n",
    "\n",
    "def trans_time(t):\n",
    "    t = t.split('T')\n",
    "    date = t[0]\n",
    "    time = t[1].split('.')[0]\n",
    "    return date+\" \"+time\n",
    "\n",
    "def get_data():\n",
    "\n",
    "    token = get_token()\n",
    "    headers = {\"Authorization\": \"Bearer {}\".format(token['access_token'])}\n",
    "\n",
    "    sp = spotipy.client.Spotify(headers)\n",
    "    data = sp.current_user_recently_played(50)\n",
    "\n",
    "    items =  data['items']\n",
    "\n",
    "    last50songs = find_songs_name(items)\n",
    "\n",
    "    return last50songs\n",
    "\n",
    "def count_song(data):\n",
    "    song_count = {}\n",
    "    song_list = []\n",
    "    for song in data:\n",
    "        # print(song)\n",
    "        song_name = song[0]\n",
    "        artist_name =  song[1]\n",
    "        song_image_url = song[2]\n",
    "        if song_name in song_count:\n",
    "            continue\n",
    "        else:\n",
    "            song_count.setdefault(song_name,[])\n",
    "            song_count[song_name].append(0)\n",
    "            song_count[song_name].append(artist_name)\n",
    "            song_count[song_name].append(song_image_url)\n",
    "\n",
    "    for song in data:\n",
    "        song_name = song[0]\n",
    "        song_count[song_name][0] +=1\n",
    "\n",
    "    for item in song_count:\n",
    "        dic = {}\n",
    "        dic['SongName'] = item\n",
    "        dic['Artist'] = song_count[item][1]\n",
    "        dic['Cover'] = song_count[item][2]\n",
    "        dic['Count'] = song_count[item][0]\n",
    "        data = [item, song_count[item][1] ,song_count[item][2],song_count[item][0]]\n",
    "        song_list.append(data)\n",
    "\n",
    "    song_list.sort(key=take_second,reverse=True)\n",
    "    \n",
    "    return song_list\n",
    "\n",
    "\n",
    "def get_user_info():\n",
    "    token = get_token()\n",
    "    headers = {\"Authorization\": \"Bearer {}\".format(token['access_token'])}\n",
    "    sp = spotipy.client.Spotify(headers)\n",
    "    user = sp.me()\n",
    "    l = []\n",
    "    l.append(user['display_name'])\n",
    "    l.append(user['images'][0]['url'] )\n",
    "\n",
    "    return l\n"
   ]
  },
  {
   "cell_type": "code",
   "execution_count": 12,
   "metadata": {},
   "outputs": [
    {
     "name": "stdout",
     "output_type": "stream",
     "text": [
      "1\n"
     ]
    }
   ],
   "source": [
    "import psycopg2\n",
    "song_detail = ['僕らはそれを愛と呼ん', 'あたらよ', 'https://i.scdn.co/image/ab67616d00001e029efd9858adaf5e9af4c817c9', '2024-02-17 15:54:16']\n",
    "\n",
    "connection = psycopg2.connect(database=\"postgres\",user=\"postgres\",password=\"postgres\",host=\"127.0.0.1\",port='5432')\n",
    "\n",
    "cursor = connection.cursor()\n",
    "\n",
    "# for i in data[:1]:\n",
    "#     song_detail = i[:4]\n",
    "#     genre_data = i[4]\n",
    "#     # print(type(song_detail[1]))\n",
    "#     # print(song_detail)\n",
    "cursor.execute(\"INSERT INTO listened_list (song_name, artist, image_url, timestamp_column) VALUES(%s, %s, %s, %s) RETURNING song_id\", song_detail)\n",
    "print(cursor.fetchone()[0])\n",
    "connection.commit()\n",
    "\n",
    "# print(song_id)\n",
    "# cursor.execute(\"SELECT * FROM listened_list\")\n",
    "# print(cursor.fetchone()[0])\n",
    "# print(cursor.statusmessage)\n",
    "\n"
   ]
  },
  {
   "cell_type": "code",
   "execution_count": 24,
   "metadata": {},
   "outputs": [
    {
     "name": "stdout",
     "output_type": "stream",
     "text": [
      "9\n"
     ]
    }
   ],
   "source": [
    "connection = psycopg2.connect(database=\"postgres\",user=\"postgres\",password=\"postgres\",host=\"127.0.0.1\",port='5432')\n",
    "\n",
    "cursor = connection.cursor()\n",
    "cursor.execute(\"SELECT * FROM listened_list\")\n",
    "\n",
    "print(cursor.fetchone()[0])\n",
    "\n",
    "connection.commit()\n",
    "connection.close()"
   ]
  },
  {
   "cell_type": "code",
   "execution_count": null,
   "metadata": {},
   "outputs": [],
   "source": []
  }
 ],
 "metadata": {
  "kernelspec": {
   "display_name": "Python 3",
   "language": "python",
   "name": "python3"
  },
  "language_info": {
   "codemirror_mode": {
    "name": "ipython",
    "version": 3
   },
   "file_extension": ".py",
   "mimetype": "text/x-python",
   "name": "python",
   "nbconvert_exporter": "python",
   "pygments_lexer": "ipython3",
   "version": "3.8.7"
  }
 },
 "nbformat": 4,
 "nbformat_minor": 2
}
